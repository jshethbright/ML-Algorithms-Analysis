{
 "cells": [
  {
   "cell_type": "code",
   "execution_count": 40,
   "id": "satellite-craps",
   "metadata": {},
   "outputs": [],
   "source": [
    "import pandas as pd\n",
    "from scipy.stats import ttest_ind"
   ]
  },
  {
   "cell_type": "markdown",
   "id": "pointed-pound",
   "metadata": {},
   "source": [
    "We read all data from our results and then run a t-test to calculate p values:\n",
    "\n",
    "*Cells with ttest_ind show t-test results, all other cells load and aggregate data*"
   ]
  },
  {
   "cell_type": "code",
   "execution_count": 41,
   "id": "stunning-natural",
   "metadata": {},
   "outputs": [
    {
     "data": {
      "text/html": [
       "<div>\n",
       "<style scoped>\n",
       "    .dataframe tbody tr th:only-of-type {\n",
       "        vertical-align: middle;\n",
       "    }\n",
       "\n",
       "    .dataframe tbody tr th {\n",
       "        vertical-align: top;\n",
       "    }\n",
       "\n",
       "    .dataframe thead th {\n",
       "        text-align: right;\n",
       "    }\n",
       "</style>\n",
       "<table border=\"1\" class=\"dataframe\">\n",
       "  <thead>\n",
       "    <tr style=\"text-align: right;\">\n",
       "      <th></th>\n",
       "      <th>CLF</th>\n",
       "      <th>accuracy</th>\n",
       "      <th>f1</th>\n",
       "      <th>auc</th>\n",
       "    </tr>\n",
       "  </thead>\n",
       "  <tbody>\n",
       "    <tr>\n",
       "      <th>0</th>\n",
       "      <td>LogReg</td>\n",
       "      <td>0.639639</td>\n",
       "      <td>0.549046</td>\n",
       "      <td>0.625594</td>\n",
       "    </tr>\n",
       "    <tr>\n",
       "      <th>1</th>\n",
       "      <td>SVM</td>\n",
       "      <td>0.937515</td>\n",
       "      <td>0.930179</td>\n",
       "      <td>0.935286</td>\n",
       "    </tr>\n",
       "    <tr>\n",
       "      <th>2</th>\n",
       "      <td>rf</td>\n",
       "      <td>0.871463</td>\n",
       "      <td>0.846990</td>\n",
       "      <td>0.864651</td>\n",
       "    </tr>\n",
       "  </tbody>\n",
       "</table>\n",
       "</div>"
      ],
      "text/plain": [
       "      CLF  accuracy        f1       auc\n",
       "0  LogReg  0.639639  0.549046  0.625594\n",
       "1     SVM  0.937515  0.930179  0.935286\n",
       "2      rf  0.871463  0.846990  0.864651"
      ]
     },
     "execution_count": 41,
     "metadata": {},
     "output_type": "execute_result"
    }
   ],
   "source": [
    "grouped_eeg_test = pd.read_csv('raw_out/grouped_eeg_test.csv')\n",
    "grouped_eeg_test"
   ]
  },
  {
   "cell_type": "code",
   "execution_count": 42,
   "id": "understood-taylor",
   "metadata": {},
   "outputs": [
    {
     "data": {
      "text/html": [
       "<div>\n",
       "<style scoped>\n",
       "    .dataframe tbody tr th:only-of-type {\n",
       "        vertical-align: middle;\n",
       "    }\n",
       "\n",
       "    .dataframe tbody tr th {\n",
       "        vertical-align: top;\n",
       "    }\n",
       "\n",
       "    .dataframe thead th {\n",
       "        text-align: right;\n",
       "    }\n",
       "</style>\n",
       "<table border=\"1\" class=\"dataframe\">\n",
       "  <thead>\n",
       "    <tr style=\"text-align: right;\">\n",
       "      <th></th>\n",
       "      <th>CLF</th>\n",
       "      <th>accuracy</th>\n",
       "      <th>f1</th>\n",
       "      <th>auc</th>\n",
       "    </tr>\n",
       "  </thead>\n",
       "  <tbody>\n",
       "    <tr>\n",
       "      <th>0</th>\n",
       "      <td>LogReg</td>\n",
       "      <td>0.988830</td>\n",
       "      <td>0.976284</td>\n",
       "      <td>0.990947</td>\n",
       "    </tr>\n",
       "    <tr>\n",
       "      <th>1</th>\n",
       "      <td>SVM</td>\n",
       "      <td>0.989216</td>\n",
       "      <td>0.977019</td>\n",
       "      <td>0.990962</td>\n",
       "    </tr>\n",
       "    <tr>\n",
       "      <th>2</th>\n",
       "      <td>rf</td>\n",
       "      <td>0.987674</td>\n",
       "      <td>0.973840</td>\n",
       "      <td>0.988691</td>\n",
       "    </tr>\n",
       "  </tbody>\n",
       "</table>\n",
       "</div>"
      ],
      "text/plain": [
       "      CLF  accuracy        f1       auc\n",
       "0  LogReg  0.988830  0.976284  0.990947\n",
       "1     SVM  0.989216  0.977019  0.990962\n",
       "2      rf  0.987674  0.973840  0.988691"
      ]
     },
     "execution_count": 42,
     "metadata": {},
     "output_type": "execute_result"
    }
   ],
   "source": [
    "grouped_occ_test = pd.read_csv('raw_out/grouped_occ_test.csv')\n",
    "grouped_occ_test"
   ]
  },
  {
   "cell_type": "code",
   "execution_count": 43,
   "id": "defined-small",
   "metadata": {},
   "outputs": [
    {
     "data": {
      "text/html": [
       "<div>\n",
       "<style scoped>\n",
       "    .dataframe tbody tr th:only-of-type {\n",
       "        vertical-align: middle;\n",
       "    }\n",
       "\n",
       "    .dataframe tbody tr th {\n",
       "        vertical-align: top;\n",
       "    }\n",
       "\n",
       "    .dataframe thead th {\n",
       "        text-align: right;\n",
       "    }\n",
       "</style>\n",
       "<table border=\"1\" class=\"dataframe\">\n",
       "  <thead>\n",
       "    <tr style=\"text-align: right;\">\n",
       "      <th></th>\n",
       "      <th>CLF</th>\n",
       "      <th>accuracy</th>\n",
       "      <th>f1</th>\n",
       "      <th>auc</th>\n",
       "    </tr>\n",
       "  </thead>\n",
       "  <tbody>\n",
       "    <tr>\n",
       "      <th>0</th>\n",
       "      <td>LogReg</td>\n",
       "      <td>0.731789</td>\n",
       "      <td>0.732046</td>\n",
       "      <td>0.731903</td>\n",
       "    </tr>\n",
       "    <tr>\n",
       "      <th>1</th>\n",
       "      <td>SVM</td>\n",
       "      <td>0.729207</td>\n",
       "      <td>0.728996</td>\n",
       "      <td>0.730008</td>\n",
       "    </tr>\n",
       "    <tr>\n",
       "      <th>2</th>\n",
       "      <td>rf</td>\n",
       "      <td>0.722771</td>\n",
       "      <td>0.717068</td>\n",
       "      <td>0.722585</td>\n",
       "    </tr>\n",
       "  </tbody>\n",
       "</table>\n",
       "</div>"
      ],
      "text/plain": [
       "      CLF  accuracy        f1       auc\n",
       "0  LogReg  0.731789  0.732046  0.731903\n",
       "1     SVM  0.729207  0.728996  0.730008\n",
       "2      rf  0.722771  0.717068  0.722585"
      ]
     },
     "execution_count": 43,
     "metadata": {},
     "output_type": "execute_result"
    }
   ],
   "source": [
    "grouped_lea_test = pd.read_csv('raw_out/grouped_lea_test.csv')\n",
    "grouped_lea_test"
   ]
  },
  {
   "cell_type": "code",
   "execution_count": 44,
   "id": "neural-knife",
   "metadata": {},
   "outputs": [
    {
     "data": {
      "text/html": [
       "<div>\n",
       "<style scoped>\n",
       "    .dataframe tbody tr th:only-of-type {\n",
       "        vertical-align: middle;\n",
       "    }\n",
       "\n",
       "    .dataframe tbody tr th {\n",
       "        vertical-align: top;\n",
       "    }\n",
       "\n",
       "    .dataframe thead th {\n",
       "        text-align: right;\n",
       "    }\n",
       "</style>\n",
       "<table border=\"1\" class=\"dataframe\">\n",
       "  <thead>\n",
       "    <tr style=\"text-align: right;\">\n",
       "      <th></th>\n",
       "      <th>CLF</th>\n",
       "      <th>accuracy</th>\n",
       "      <th>f1</th>\n",
       "      <th>auc</th>\n",
       "    </tr>\n",
       "  </thead>\n",
       "  <tbody>\n",
       "    <tr>\n",
       "      <th>0</th>\n",
       "      <td>LogReg</td>\n",
       "      <td>0.744380</td>\n",
       "      <td>0.737894</td>\n",
       "      <td>0.697199</td>\n",
       "    </tr>\n",
       "    <tr>\n",
       "      <th>1</th>\n",
       "      <td>SVM</td>\n",
       "      <td>0.749534</td>\n",
       "      <td>0.755298</td>\n",
       "      <td>0.750471</td>\n",
       "    </tr>\n",
       "    <tr>\n",
       "      <th>2</th>\n",
       "      <td>rf</td>\n",
       "      <td>0.757065</td>\n",
       "      <td>0.760989</td>\n",
       "      <td>0.757471</td>\n",
       "    </tr>\n",
       "  </tbody>\n",
       "</table>\n",
       "</div>"
      ],
      "text/plain": [
       "      CLF  accuracy        f1       auc\n",
       "0  LogReg  0.744380  0.737894  0.697199\n",
       "1     SVM  0.749534  0.755298  0.750471\n",
       "2      rf  0.757065  0.760989  0.757471"
      ]
     },
     "execution_count": 44,
     "metadata": {},
     "output_type": "execute_result"
    }
   ],
   "source": [
    "grouped_csg_test = pd.read_csv('raw_out/grouped_csg_test.csv')\n",
    "grouped_csg_test"
   ]
  },
  {
   "cell_type": "code",
   "execution_count": 45,
   "id": "preliminary-brooklyn",
   "metadata": {},
   "outputs": [],
   "source": [
    "data_lst = [grouped_eeg_test, grouped_occ_test, grouped_lea_test, grouped_csg_test]\n",
    "clf_lst = ['LogReg', 'SVM', 'rf']"
   ]
  },
  {
   "cell_type": "code",
   "execution_count": 46,
   "id": "affected-bread",
   "metadata": {},
   "outputs": [
    {
     "data": {
      "text/plain": [
       "[0.6396392822265625,\n",
       " 0.9888303399085998,\n",
       " 0.7317892909049988,\n",
       " 0.7443795323371887]"
      ]
     },
     "execution_count": 46,
     "metadata": {},
     "output_type": "execute_result"
    }
   ],
   "source": [
    "acc_log = [df.loc[df.CLF == 'LogReg'].accuracy.iloc[0] for df in data_lst]\n",
    "acc_log"
   ]
  },
  {
   "cell_type": "code",
   "execution_count": 47,
   "id": "thrown-participation",
   "metadata": {},
   "outputs": [
    {
     "data": {
      "text/plain": [
       "[0.9375150442123412,\n",
       " 0.9892159461975096,\n",
       " 0.7292068004608154,\n",
       " 0.7495341181755066]"
      ]
     },
     "execution_count": 47,
     "metadata": {},
     "output_type": "execute_result"
    }
   ],
   "source": [
    "acc_svm = [df.loc[df.CLF == 'SVM'].accuracy.iloc[0] for df in data_lst]\n",
    "acc_svm"
   ]
  },
  {
   "cell_type": "code",
   "execution_count": 48,
   "id": "initial-harmony",
   "metadata": {},
   "outputs": [
    {
     "data": {
      "text/plain": [
       "[0.8714629292488099, 0.987673532962799, 0.7227710604667663, 0.7570649862289429]"
      ]
     },
     "execution_count": 48,
     "metadata": {},
     "output_type": "execute_result"
    }
   ],
   "source": [
    "acc_rf = [df.loc[df.CLF == 'rf'].accuracy.iloc[0] for df in data_lst]\n",
    "acc_rf"
   ]
  },
  {
   "cell_type": "code",
   "execution_count": 49,
   "id": "cheap-gates",
   "metadata": {},
   "outputs": [
    {
     "data": {
      "text/plain": [
       "[0.5490458015434354,\n",
       " 0.9762835878902136,\n",
       " 0.7320462028434845,\n",
       " 0.7378938066944414]"
      ]
     },
     "execution_count": 49,
     "metadata": {},
     "output_type": "execute_result"
    }
   ],
   "source": [
    "f1_log = [df.loc[df.CLF == 'LogReg'].f1.iloc[0] for df in data_lst]\n",
    "f1_log"
   ]
  },
  {
   "cell_type": "code",
   "execution_count": 50,
   "id": "permanent-calgary",
   "metadata": {},
   "outputs": [
    {
     "data": {
      "text/plain": [
       "[0.9301786590785176, 0.977018850240397, 0.7289962376926, 0.7552975060344572]"
      ]
     },
     "execution_count": 50,
     "metadata": {},
     "output_type": "execute_result"
    }
   ],
   "source": [
    "f1_svm = [df.loc[df.CLF == 'SVM'].f1.iloc[0] for df in data_lst]\n",
    "f1_svm"
   ]
  },
  {
   "cell_type": "code",
   "execution_count": 51,
   "id": "individual-ideal",
   "metadata": {},
   "outputs": [
    {
     "data": {
      "text/plain": [
       "[0.8469904103246033,\n",
       " 0.9738399996677533,\n",
       " 0.7170675655905128,\n",
       " 0.7609887586248177]"
      ]
     },
     "execution_count": 51,
     "metadata": {},
     "output_type": "execute_result"
    }
   ],
   "source": [
    "f1_rf = [df.loc[df.CLF == 'rf'].f1.iloc[0] for df in data_lst]\n",
    "f1_rf"
   ]
  },
  {
   "cell_type": "code",
   "execution_count": 52,
   "id": "mobile-laundry",
   "metadata": {},
   "outputs": [
    {
     "data": {
      "text/plain": [
       "[0.6255940589010951,\n",
       " 0.9909466003165166,\n",
       " 0.7319032230044098,\n",
       " 0.6971988389303345]"
      ]
     },
     "execution_count": 52,
     "metadata": {},
     "output_type": "execute_result"
    }
   ],
   "source": [
    "auc_log = [df.loc[df.CLF == 'LogReg'].auc.iloc[0] for df in data_lst]\n",
    "auc_log"
   ]
  },
  {
   "cell_type": "code",
   "execution_count": 53,
   "id": "different-aging",
   "metadata": {},
   "outputs": [
    {
     "data": {
      "text/plain": [
       "[0.9352864433090952,\n",
       " 0.9909619919717556,\n",
       " 0.7300075318890773,\n",
       " 0.7504707870538188]"
      ]
     },
     "execution_count": 53,
     "metadata": {},
     "output_type": "execute_result"
    }
   ],
   "source": [
    "auc_svm = [df.loc[df.CLF == 'SVM'].auc.iloc[0] for df in data_lst]\n",
    "auc_svm"
   ]
  },
  {
   "cell_type": "code",
   "execution_count": 54,
   "id": "imported-concern",
   "metadata": {},
   "outputs": [
    {
     "data": {
      "text/plain": [
       "[0.8646511000085709, 0.9886908180404234, 0.7225847835761738, 0.757471216379867]"
      ]
     },
     "execution_count": 54,
     "metadata": {},
     "output_type": "execute_result"
    }
   ],
   "source": [
    "auc_rf = [df.loc[df.CLF == 'rf'].auc.iloc[0] for df in data_lst]\n",
    "auc_rf"
   ]
  },
  {
   "cell_type": "code",
   "execution_count": 55,
   "id": "professional-reply",
   "metadata": {},
   "outputs": [
    {
     "data": {
      "text/plain": [
       "(0.4779188385945048, 0.8579563749631394)"
      ]
     },
     "execution_count": 55,
     "metadata": {},
     "output_type": "execute_result"
    }
   ],
   "source": [
    "ttest_ind(acc_svm, acc_log).pvalue, ttest_ind(acc_rf, acc_svm).pvalue"
   ]
  },
  {
   "cell_type": "code",
   "execution_count": 56,
   "id": "formal-stroke",
   "metadata": {},
   "outputs": [
    {
     "data": {
      "text/plain": [
       "(0.39160735851049266, 0.7919350355412891)"
      ]
     },
     "execution_count": 56,
     "metadata": {},
     "output_type": "execute_result"
    }
   ],
   "source": [
    "ttest_ind(f1_svm, f1_log).pvalue, ttest_ind(f1_rf, f1_svm).pvalue"
   ]
  },
  {
   "cell_type": "code",
   "execution_count": 57,
   "id": "cubic-florence",
   "metadata": {},
   "outputs": [
    {
     "data": {
      "text/plain": [
       "(0.41495180227054596, 0.8432297673209298)"
      ]
     },
     "execution_count": 57,
     "metadata": {},
     "output_type": "execute_result"
    }
   ],
   "source": [
    "ttest_ind(auc_svm, auc_log).pvalue, ttest_ind(auc_svm, auc_rf).pvalue"
   ]
  },
  {
   "cell_type": "code",
   "execution_count": 58,
   "id": "coral-mapping",
   "metadata": {},
   "outputs": [],
   "source": [
    "eeg_comb_test_df = pd.read_csv('raw_out/eeg_comb_test.csv').drop(columns = ['Unnamed: 0'])\n",
    "occ_comb_test_df = pd.read_csv('raw_out/occ_comb_test.csv').drop(columns = ['Unnamed: 0'])\n",
    "lea_comb_test_df = pd.read_csv('raw_out/lea_comb_test.csv').drop(columns = ['Unnamed: 0'])\n",
    "csg_comb_test_df = pd.read_csv('raw_out/csg_comb_test.csv').drop(columns = ['Unnamed: 0'])"
   ]
  },
  {
   "cell_type": "code",
   "execution_count": 59,
   "id": "supreme-community",
   "metadata": {},
   "outputs": [
    {
     "data": {
      "text/plain": [
       "array([0.63963928, 0.5490458 , 0.62559406])"
      ]
     },
     "execution_count": 59,
     "metadata": {},
     "output_type": "execute_result"
    }
   ],
   "source": [
    "gr_eeg = eeg_comb_test_df.groupby('CLF').mean()\n",
    "eeg_log = gr_eeg.loc['LogReg'].to_numpy()\n",
    "eeg_log"
   ]
  },
  {
   "cell_type": "code",
   "execution_count": 60,
   "id": "false-leone",
   "metadata": {},
   "outputs": [
    {
     "data": {
      "text/plain": [
       "array([0.93751504, 0.93017866, 0.93528644])"
      ]
     },
     "execution_count": 60,
     "metadata": {},
     "output_type": "execute_result"
    }
   ],
   "source": [
    "gr_eeg = eeg_comb_test_df.groupby('CLF').mean()\n",
    "eeg_svm = gr_eeg.loc['SVM'].to_numpy()\n",
    "eeg_svm"
   ]
  },
  {
   "cell_type": "code",
   "execution_count": 61,
   "id": "correct-pursuit",
   "metadata": {},
   "outputs": [
    {
     "data": {
      "text/plain": [
       "array([0.87146293, 0.84699041, 0.8646511 ])"
      ]
     },
     "execution_count": 61,
     "metadata": {},
     "output_type": "execute_result"
    }
   ],
   "source": [
    "gr_eeg = eeg_comb_test_df.groupby('CLF').mean()\n",
    "eeg_rf = gr_eeg.loc['rf'].to_numpy()\n",
    "eeg_rf"
   ]
  },
  {
   "cell_type": "code",
   "execution_count": 62,
   "id": "social-standard",
   "metadata": {
    "scrolled": true
   },
   "outputs": [
    {
     "data": {
      "text/plain": [
       "0.000307975282383063"
      ]
     },
     "execution_count": 62,
     "metadata": {},
     "output_type": "execute_result"
    }
   ],
   "source": [
    "ttest_ind(eeg_svm, eeg_log).pvalue"
   ]
  },
  {
   "cell_type": "code",
   "execution_count": 63,
   "id": "undefined-renaissance",
   "metadata": {},
   "outputs": [
    {
     "data": {
      "text/plain": [
       "0.0006495468380593139"
      ]
     },
     "execution_count": 63,
     "metadata": {},
     "output_type": "execute_result"
    }
   ],
   "source": [
    "ttest_ind(eeg_svm, eeg_rf).pvalue"
   ]
  },
  {
   "cell_type": "code",
   "execution_count": 64,
   "id": "white-treasury",
   "metadata": {},
   "outputs": [
    {
     "data": {
      "text/plain": [
       "array([0.98883034, 0.97628359, 0.9909466 ])"
      ]
     },
     "execution_count": 64,
     "metadata": {},
     "output_type": "execute_result"
    }
   ],
   "source": [
    "gr_occ = occ_comb_test_df.groupby('CLF').mean()\n",
    "occ_log = gr_occ.loc['LogReg'].to_numpy()\n",
    "occ_log"
   ]
  },
  {
   "cell_type": "code",
   "execution_count": 65,
   "id": "stopped-platinum",
   "metadata": {},
   "outputs": [
    {
     "data": {
      "text/plain": [
       "array([0.98921595, 0.97701885, 0.99096199])"
      ]
     },
     "execution_count": 65,
     "metadata": {},
     "output_type": "execute_result"
    }
   ],
   "source": [
    "gr_occ = occ_comb_test_df.groupby('CLF').mean()\n",
    "occ_svm = gr_occ.loc['SVM'].to_numpy()\n",
    "occ_svm"
   ]
  },
  {
   "cell_type": "code",
   "execution_count": 66,
   "id": "invisible-lancaster",
   "metadata": {},
   "outputs": [
    {
     "data": {
      "text/plain": [
       "array([0.98767353, 0.97384   , 0.98869082])"
      ]
     },
     "execution_count": 66,
     "metadata": {},
     "output_type": "execute_result"
    }
   ],
   "source": [
    "gr_occ = occ_comb_test_df.groupby('CLF').mean()\n",
    "occ_rf = gr_occ.loc['rf'].to_numpy()\n",
    "occ_rf"
   ]
  },
  {
   "cell_type": "code",
   "execution_count": 67,
   "id": "requested-solomon",
   "metadata": {
    "scrolled": true
   },
   "outputs": [
    {
     "data": {
      "text/plain": [
       "0.9552160648387585"
      ]
     },
     "execution_count": 67,
     "metadata": {},
     "output_type": "execute_result"
    }
   ],
   "source": [
    "ttest_ind(occ_svm, occ_log).pvalue"
   ]
  },
  {
   "cell_type": "code",
   "execution_count": 68,
   "id": "metallic-parish",
   "metadata": {},
   "outputs": [
    {
     "data": {
      "text/plain": [
       "0.7378131284440838"
      ]
     },
     "execution_count": 68,
     "metadata": {},
     "output_type": "execute_result"
    }
   ],
   "source": [
    "ttest_ind(occ_svm, occ_rf).pvalue"
   ]
  },
  {
   "cell_type": "code",
   "execution_count": 69,
   "id": "aggregate-seeking",
   "metadata": {},
   "outputs": [
    {
     "data": {
      "text/plain": [
       "array([0.73178929, 0.7320462 , 0.73190322])"
      ]
     },
     "execution_count": 69,
     "metadata": {},
     "output_type": "execute_result"
    }
   ],
   "source": [
    "gr_lea = lea_comb_test_df.groupby('CLF').mean()\n",
    "lea_log = gr_lea.loc['LogReg'].to_numpy()\n",
    "lea_log"
   ]
  },
  {
   "cell_type": "code",
   "execution_count": 70,
   "id": "illegal-postcard",
   "metadata": {},
   "outputs": [
    {
     "data": {
      "text/plain": [
       "array([0.7292068 , 0.72899624, 0.73000753])"
      ]
     },
     "execution_count": 70,
     "metadata": {},
     "output_type": "execute_result"
    }
   ],
   "source": [
    "gr_lea = lea_comb_test_df.groupby('CLF').mean()\n",
    "lea_svm = gr_lea.loc['SVM'].to_numpy()\n",
    "lea_svm"
   ]
  },
  {
   "cell_type": "code",
   "execution_count": 71,
   "id": "public-photograph",
   "metadata": {},
   "outputs": [
    {
     "data": {
      "text/plain": [
       "array([0.72277106, 0.71706757, 0.72258478])"
      ]
     },
     "execution_count": 71,
     "metadata": {},
     "output_type": "execute_result"
    }
   ],
   "source": [
    "gr_lea = lea_comb_test_df.groupby('CLF').mean()\n",
    "lea_rf = gr_lea.loc['rf'].to_numpy()\n",
    "lea_rf"
   ]
  },
  {
   "cell_type": "code",
   "execution_count": 81,
   "id": "original-marketplace",
   "metadata": {
    "scrolled": true
   },
   "outputs": [
    {
     "data": {
      "text/plain": [
       "0.0013764133236427761"
      ]
     },
     "execution_count": 81,
     "metadata": {},
     "output_type": "execute_result"
    }
   ],
   "source": [
    "ttest_ind(lea_svm, lea_log).pvalue"
   ]
  },
  {
   "cell_type": "code",
   "execution_count": 73,
   "id": "handy-prayer",
   "metadata": {},
   "outputs": [
    {
     "data": {
      "text/plain": [
       "0.0040503850577308514"
      ]
     },
     "execution_count": 73,
     "metadata": {},
     "output_type": "execute_result"
    }
   ],
   "source": [
    "ttest_ind(lea_rf, lea_log).pvalue"
   ]
  },
  {
   "cell_type": "code",
   "execution_count": 74,
   "id": "wicked-daisy",
   "metadata": {},
   "outputs": [
    {
     "data": {
      "text/plain": [
       "array([0.74437953, 0.73789381, 0.69719884])"
      ]
     },
     "execution_count": 74,
     "metadata": {},
     "output_type": "execute_result"
    }
   ],
   "source": [
    "gr_csg = csg_comb_test_df.groupby('CLF').mean()\n",
    "csg_log = gr_csg.loc['LogReg'].to_numpy()\n",
    "csg_log"
   ]
  },
  {
   "cell_type": "code",
   "execution_count": 75,
   "id": "limited-cross",
   "metadata": {},
   "outputs": [
    {
     "data": {
      "text/plain": [
       "array([0.74953412, 0.75529751, 0.75047079])"
      ]
     },
     "execution_count": 75,
     "metadata": {},
     "output_type": "execute_result"
    }
   ],
   "source": [
    "gr_csg = csg_comb_test_df.groupby('CLF').mean()\n",
    "csg_svm = gr_csg.loc['SVM'].to_numpy()\n",
    "csg_svm"
   ]
  },
  {
   "cell_type": "code",
   "execution_count": 76,
   "id": "unusual-meeting",
   "metadata": {},
   "outputs": [
    {
     "data": {
      "text/plain": [
       "array([0.75706499, 0.76098876, 0.75747122])"
      ]
     },
     "execution_count": 76,
     "metadata": {},
     "output_type": "execute_result"
    }
   ],
   "source": [
    "gr_csg = csg_comb_test_df.groupby('CLF').mean()\n",
    "csg_rf = gr_csg.loc['rf'].to_numpy()\n",
    "csg_rf"
   ]
  },
  {
   "cell_type": "code",
   "execution_count": 77,
   "id": "musical-indicator",
   "metadata": {
    "scrolled": true
   },
   "outputs": [
    {
     "data": {
      "text/plain": [
       "0.09680412660667899"
      ]
     },
     "execution_count": 77,
     "metadata": {},
     "output_type": "execute_result"
    }
   ],
   "source": [
    "ttest_ind(csg_rf, csg_log).pvalue"
   ]
  },
  {
   "cell_type": "code",
   "execution_count": 39,
   "id": "documentary-vault",
   "metadata": {},
   "outputs": [
    {
     "data": {
      "text/plain": [
       "0.0363591489784883"
      ]
     },
     "execution_count": 39,
     "metadata": {},
     "output_type": "execute_result"
    }
   ],
   "source": [
    "ttest_ind(csg_rf, csg_svm).pvalue"
   ]
  }
 ],
 "metadata": {
  "kernelspec": {
   "display_name": "Python 3",
   "language": "python",
   "name": "python3"
  },
  "language_info": {
   "codemirror_mode": {
    "name": "ipython",
    "version": 3
   },
   "file_extension": ".py",
   "mimetype": "text/x-python",
   "name": "python",
   "nbconvert_exporter": "python",
   "pygments_lexer": "ipython3",
   "version": "3.7.10"
  }
 },
 "nbformat": 4,
 "nbformat_minor": 5
}
